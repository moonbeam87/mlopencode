{
 "metadata": {
  "language_info": {
   "codemirror_mode": {
    "name": "ipython",
    "version": 3
   },
   "file_extension": ".py",
   "mimetype": "text/x-python",
   "name": "python",
   "nbconvert_exporter": "python",
   "pygments_lexer": "ipython3",
   "version": "3.8.2-final"
  },
  "orig_nbformat": 2,
  "kernelspec": {
   "name": "python38264bit4a670393e66f4ecd9fcad564f23dc9b0",
   "display_name": "Python 3.8.2 64-bit"
  }
 },
 "nbformat": 4,
 "nbformat_minor": 2,
 "cells": [
  {
   "cell_type": "code",
   "execution_count": 69,
   "metadata": {
    "tags": []
   },
   "outputs": [
    {
     "output_type": "stream",
     "name": "stdout",
     "text": "/bin/sh: 1: pip: not found\n"
    }
   ],
   "source": [
    "!pip3 install --upgrade scikit-learn==0.20.3"
   ]
  },
  {
   "cell_type": "code",
   "execution_count": 2,
   "metadata": {},
   "outputs": [],
   "source": [
    "import pandas as pd \n",
    "import numpy as np\n",
    "import random"
   ]
  },
  {
   "cell_type": "code",
   "execution_count": 6,
   "metadata": {},
   "outputs": [
    {
     "output_type": "execute_result",
     "data": {
      "text/plain": "     age  gender  height  weight  ap_hi  ap_lo  cholesterol  gluc  smoke  \\\n0  17363       1     172    89.0    110     70            1     1      0   \n1  21200       1     168    68.0    110     70            1     1      0   \n2  17286       1     167    74.0    120     80            1     1      0   \n3  15822       1     157    61.0     90     70            1     1      0   \n4  20458       1     156    55.0    110     70            1     1      0   \n\n   alco  active  cardio  \n0     1       0       0  \n1     0       1       0  \n2     0       1       0  \n3     0       1       0  \n4     0       1       0  ",
      "text/html": "<div>\n<style scoped>\n    .dataframe tbody tr th:only-of-type {\n        vertical-align: middle;\n    }\n\n    .dataframe tbody tr th {\n        vertical-align: top;\n    }\n\n    .dataframe thead th {\n        text-align: right;\n    }\n</style>\n<table border=\"1\" class=\"dataframe\">\n  <thead>\n    <tr style=\"text-align: right;\">\n      <th></th>\n      <th>age</th>\n      <th>gender</th>\n      <th>height</th>\n      <th>weight</th>\n      <th>ap_hi</th>\n      <th>ap_lo</th>\n      <th>cholesterol</th>\n      <th>gluc</th>\n      <th>smoke</th>\n      <th>alco</th>\n      <th>active</th>\n      <th>cardio</th>\n    </tr>\n  </thead>\n  <tbody>\n    <tr>\n      <th>0</th>\n      <td>17363</td>\n      <td>1</td>\n      <td>172</td>\n      <td>89.0</td>\n      <td>110</td>\n      <td>70</td>\n      <td>1</td>\n      <td>1</td>\n      <td>0</td>\n      <td>1</td>\n      <td>0</td>\n      <td>0</td>\n    </tr>\n    <tr>\n      <th>1</th>\n      <td>21200</td>\n      <td>1</td>\n      <td>168</td>\n      <td>68.0</td>\n      <td>110</td>\n      <td>70</td>\n      <td>1</td>\n      <td>1</td>\n      <td>0</td>\n      <td>0</td>\n      <td>1</td>\n      <td>0</td>\n    </tr>\n    <tr>\n      <th>2</th>\n      <td>17286</td>\n      <td>1</td>\n      <td>167</td>\n      <td>74.0</td>\n      <td>120</td>\n      <td>80</td>\n      <td>1</td>\n      <td>1</td>\n      <td>0</td>\n      <td>0</td>\n      <td>1</td>\n      <td>0</td>\n    </tr>\n    <tr>\n      <th>3</th>\n      <td>15822</td>\n      <td>1</td>\n      <td>157</td>\n      <td>61.0</td>\n      <td>90</td>\n      <td>70</td>\n      <td>1</td>\n      <td>1</td>\n      <td>0</td>\n      <td>0</td>\n      <td>1</td>\n      <td>0</td>\n    </tr>\n    <tr>\n      <th>4</th>\n      <td>20458</td>\n      <td>1</td>\n      <td>156</td>\n      <td>55.0</td>\n      <td>110</td>\n      <td>70</td>\n      <td>1</td>\n      <td>1</td>\n      <td>0</td>\n      <td>0</td>\n      <td>1</td>\n      <td>0</td>\n    </tr>\n  </tbody>\n</table>\n</div>"
     },
     "metadata": {},
     "execution_count": 6
    }
   ],
   "source": [
    "df = pd.read_csv(\"~/mlopencode/train.csv\")\n",
    "df.head()"
   ]
  },
  {
   "cell_type": "code",
   "execution_count": 7,
   "metadata": {
    "tags": []
   },
   "outputs": [
    {
     "output_type": "stream",
     "name": "stdout",
     "text": "<class 'pandas.core.frame.DataFrame'>\nRangeIndex: 4000 entries, 0 to 3999\nData columns (total 12 columns):\n #   Column       Non-Null Count  Dtype  \n---  ------       --------------  -----  \n 0   age          4000 non-null   int64  \n 1   gender       4000 non-null   int64  \n 2   height       4000 non-null   int64  \n 3   weight       4000 non-null   float64\n 4   ap_hi        4000 non-null   int64  \n 5   ap_lo        4000 non-null   int64  \n 6   cholesterol  4000 non-null   int64  \n 7   gluc         4000 non-null   int64  \n 8   smoke        4000 non-null   int64  \n 9   alco         4000 non-null   int64  \n 10  active       4000 non-null   int64  \n 11  cardio       4000 non-null   int64  \ndtypes: float64(1), int64(11)\nmemory usage: 375.1 KB\n"
    }
   ],
   "source": [
    "df.info()"
   ]
  },
  {
   "cell_type": "code",
   "execution_count": 8,
   "metadata": {},
   "outputs": [
    {
     "output_type": "execute_result",
     "data": {
      "text/plain": "        age  gender  height  weight  ap_hi  ap_lo  cholesterol  gluc  smoke  \\\n0     17363       1     172    89.0    110     70            1     1      0   \n1     21200       1     168    68.0    110     70            1     1      0   \n2     17286       1     167    74.0    120     80            1     1      0   \n3     15822       1     157    61.0     90     70            1     1      0   \n4     20458       1     156    55.0    110     70            1     1      0   \n...     ...     ...     ...     ...    ...    ...          ...   ...    ...   \n3995  23279       1     170    72.0    120     80            1     1      0   \n3996  20450       1     165    58.0    120     80            1     1      0   \n3997  22085       2     170    71.0    120     90            1     1      0   \n3998  23212       1     164    73.0    130     90            1     1      0   \n3999  18983       2     175    98.0    140     90            2     1      0   \n\n      alco  active  cardio  \n0        1       0       0  \n1        0       1       0  \n2        0       1       0  \n3        0       1       0  \n4        0       1       0  \n...    ...     ...     ...  \n3995     0       0       0  \n3996     0       1       1  \n3997     0       1       1  \n3998     0       1       1  \n3999     0       1       1  \n\n[4000 rows x 12 columns]",
      "text/html": "<div>\n<style scoped>\n    .dataframe tbody tr th:only-of-type {\n        vertical-align: middle;\n    }\n\n    .dataframe tbody tr th {\n        vertical-align: top;\n    }\n\n    .dataframe thead th {\n        text-align: right;\n    }\n</style>\n<table border=\"1\" class=\"dataframe\">\n  <thead>\n    <tr style=\"text-align: right;\">\n      <th></th>\n      <th>age</th>\n      <th>gender</th>\n      <th>height</th>\n      <th>weight</th>\n      <th>ap_hi</th>\n      <th>ap_lo</th>\n      <th>cholesterol</th>\n      <th>gluc</th>\n      <th>smoke</th>\n      <th>alco</th>\n      <th>active</th>\n      <th>cardio</th>\n    </tr>\n  </thead>\n  <tbody>\n    <tr>\n      <th>0</th>\n      <td>17363</td>\n      <td>1</td>\n      <td>172</td>\n      <td>89.0</td>\n      <td>110</td>\n      <td>70</td>\n      <td>1</td>\n      <td>1</td>\n      <td>0</td>\n      <td>1</td>\n      <td>0</td>\n      <td>0</td>\n    </tr>\n    <tr>\n      <th>1</th>\n      <td>21200</td>\n      <td>1</td>\n      <td>168</td>\n      <td>68.0</td>\n      <td>110</td>\n      <td>70</td>\n      <td>1</td>\n      <td>1</td>\n      <td>0</td>\n      <td>0</td>\n      <td>1</td>\n      <td>0</td>\n    </tr>\n    <tr>\n      <th>2</th>\n      <td>17286</td>\n      <td>1</td>\n      <td>167</td>\n      <td>74.0</td>\n      <td>120</td>\n      <td>80</td>\n      <td>1</td>\n      <td>1</td>\n      <td>0</td>\n      <td>0</td>\n      <td>1</td>\n      <td>0</td>\n    </tr>\n    <tr>\n      <th>3</th>\n      <td>15822</td>\n      <td>1</td>\n      <td>157</td>\n      <td>61.0</td>\n      <td>90</td>\n      <td>70</td>\n      <td>1</td>\n      <td>1</td>\n      <td>0</td>\n      <td>0</td>\n      <td>1</td>\n      <td>0</td>\n    </tr>\n    <tr>\n      <th>4</th>\n      <td>20458</td>\n      <td>1</td>\n      <td>156</td>\n      <td>55.0</td>\n      <td>110</td>\n      <td>70</td>\n      <td>1</td>\n      <td>1</td>\n      <td>0</td>\n      <td>0</td>\n      <td>1</td>\n      <td>0</td>\n    </tr>\n    <tr>\n      <th>...</th>\n      <td>...</td>\n      <td>...</td>\n      <td>...</td>\n      <td>...</td>\n      <td>...</td>\n      <td>...</td>\n      <td>...</td>\n      <td>...</td>\n      <td>...</td>\n      <td>...</td>\n      <td>...</td>\n      <td>...</td>\n    </tr>\n    <tr>\n      <th>3995</th>\n      <td>23279</td>\n      <td>1</td>\n      <td>170</td>\n      <td>72.0</td>\n      <td>120</td>\n      <td>80</td>\n      <td>1</td>\n      <td>1</td>\n      <td>0</td>\n      <td>0</td>\n      <td>0</td>\n      <td>0</td>\n    </tr>\n    <tr>\n      <th>3996</th>\n      <td>20450</td>\n      <td>1</td>\n      <td>165</td>\n      <td>58.0</td>\n      <td>120</td>\n      <td>80</td>\n      <td>1</td>\n      <td>1</td>\n      <td>0</td>\n      <td>0</td>\n      <td>1</td>\n      <td>1</td>\n    </tr>\n    <tr>\n      <th>3997</th>\n      <td>22085</td>\n      <td>2</td>\n      <td>170</td>\n      <td>71.0</td>\n      <td>120</td>\n      <td>90</td>\n      <td>1</td>\n      <td>1</td>\n      <td>0</td>\n      <td>0</td>\n      <td>1</td>\n      <td>1</td>\n    </tr>\n    <tr>\n      <th>3998</th>\n      <td>23212</td>\n      <td>1</td>\n      <td>164</td>\n      <td>73.0</td>\n      <td>130</td>\n      <td>90</td>\n      <td>1</td>\n      <td>1</td>\n      <td>0</td>\n      <td>0</td>\n      <td>1</td>\n      <td>1</td>\n    </tr>\n    <tr>\n      <th>3999</th>\n      <td>18983</td>\n      <td>2</td>\n      <td>175</td>\n      <td>98.0</td>\n      <td>140</td>\n      <td>90</td>\n      <td>2</td>\n      <td>1</td>\n      <td>0</td>\n      <td>0</td>\n      <td>1</td>\n      <td>1</td>\n    </tr>\n  </tbody>\n</table>\n<p>4000 rows × 12 columns</p>\n</div>"
     },
     "metadata": {},
     "execution_count": 8
    }
   ],
   "source": [
    "df"
   ]
  },
  {
   "cell_type": "code",
   "execution_count": 9,
   "metadata": {},
   "outputs": [
    {
     "output_type": "execute_result",
     "data": {
      "text/plain": "0    0.505\n1    0.495\nName: cardio, dtype: float64"
     },
     "metadata": {},
     "execution_count": 9
    }
   ],
   "source": [
    "df['cardio'].value_counts(normalize=True)"
   ]
  },
  {
   "cell_type": "code",
   "execution_count": 11,
   "metadata": {},
   "outputs": [
    {
     "output_type": "execute_result",
     "data": {
      "text/plain": "cholesterol\n1    0.432000\n2    0.618692\n3    0.759140\nName: cardio, dtype: float64"
     },
     "metadata": {},
     "execution_count": 11
    }
   ],
   "source": [
    "df['cardio'].groupby(df['cholesterol']).mean()"
   ]
  },
  {
   "cell_type": "code",
   "execution_count": 12,
   "metadata": {},
   "outputs": [
    {
     "output_type": "execute_result",
     "data": {
      "text/plain": "ap_hi\n10       1.000000\n11       0.666667\n12       0.000000\n13       0.000000\n14       0.000000\n           ...   \n240      1.000000\n1202     1.000000\n1300     0.000000\n1620     1.000000\n14020    0.000000\nName: cardio, Length: 62, dtype: float64"
     },
     "metadata": {},
     "execution_count": 12
    }
   ],
   "source": [
    "df['cardio'].groupby(df['ap_hi']).mean()"
   ]
  },
  {
   "cell_type": "code",
   "execution_count": 13,
   "metadata": {},
   "outputs": [
    {
     "output_type": "execute_result",
     "data": {
      "text/plain": "gender\n1    0.493066\n2    0.498575\nName: cardio, dtype: float64"
     },
     "metadata": {},
     "execution_count": 13
    }
   ],
   "source": [
    "df['cardio'].groupby(df['gender']).mean()"
   ]
  },
  {
   "cell_type": "code",
   "execution_count": 15,
   "metadata": {},
   "outputs": [
    {
     "output_type": "execute_result",
     "data": {
      "text/plain": "ap_lo\n0       0.000000\n20      0.000000\n40      1.000000\n50      0.500000\n60      0.222930\n63      0.000000\n65      0.500000\n66      0.000000\n68      0.000000\n69      0.000000\n70      0.273950\n72      0.333333\n73      1.000000\n75      0.200000\n77      1.000000\n78      0.000000\n79      0.571429\n80      0.429768\n82      1.000000\n83      0.000000\n84      0.000000\n85      0.500000\n87      0.666667\n88      1.000000\n89      1.000000\n90      0.754717\n94      1.000000\n95      0.666667\n96      1.000000\n99      0.000000\n100     0.807339\n101     0.000000\n103     0.000000\n105     1.000000\n109     1.000000\n110     0.760000\n115     1.000000\n120     0.583333\n130     0.666667\n150     1.000000\n710     0.000000\n1000    0.886364\n1001    1.000000\n1100    0.909091\n1110    1.000000\n1120    1.000000\n5700    0.000000\n9800    0.000000\nName: cardio, dtype: float64"
     },
     "metadata": {},
     "execution_count": 15
    }
   ],
   "source": [
    "df['cardio'].groupby(df['ap_lo']).mean()"
   ]
  },
  {
   "cell_type": "code",
   "execution_count": 16,
   "metadata": {},
   "outputs": [
    {
     "output_type": "execute_result",
     "data": {
      "text/plain": "gluc\n1    0.474816\n2    0.600000\n3    0.616129\nName: cardio, dtype: float64"
     },
     "metadata": {},
     "execution_count": 16
    }
   ],
   "source": [
    "df['cardio'].groupby(df['gluc']).mean()"
   ]
  },
  {
   "cell_type": "code",
   "execution_count": 17,
   "metadata": {},
   "outputs": [],
   "source": [
    "train = df"
   ]
  },
  {
   "cell_type": "code",
   "execution_count": 18,
   "metadata": {},
   "outputs": [],
   "source": [
    "test = pd.read_csv(\"~/mlopencode/test.csv\")"
   ]
  },
  {
   "cell_type": "code",
   "execution_count": 19,
   "metadata": {
    "tags": []
   },
   "outputs": [
    {
     "output_type": "stream",
     "name": "stdout",
     "text": "12\n"
    }
   ],
   "source": [
    "print(len(train.columns))"
   ]
  },
  {
   "cell_type": "code",
   "execution_count": 21,
   "metadata": {},
   "outputs": [
    {
     "output_type": "error",
     "ename": "ModuleNotFoundError",
     "evalue": "No module named 'sklearn'",
     "traceback": [
      "\u001b[0;31m---------------------------------------------------------------------------\u001b[0m",
      "\u001b[0;31mModuleNotFoundError\u001b[0m                       Traceback (most recent call last)",
      "\u001b[0;32m<ipython-input-21-dca3edcb47fe>\u001b[0m in \u001b[0;36m<module>\u001b[0;34m\u001b[0m\n\u001b[0;32m----> 1\u001b[0;31m \u001b[0;32mfrom\u001b[0m \u001b[0msklearn\u001b[0m\u001b[0;34m.\u001b[0m\u001b[0mmodel_selection\u001b[0m \u001b[0;32mimport\u001b[0m \u001b[0mGridSearchCSV\u001b[0m\u001b[0;34m\u001b[0m\u001b[0;34m\u001b[0m\u001b[0m\n\u001b[0m",
      "\u001b[0;31mModuleNotFoundError\u001b[0m: No module named 'sklearn'"
     ]
    }
   ],
   "source": [
    "from sklearn.model_selection import GridSearchCSV"
   ]
  },
  {
   "cell_type": "code",
   "execution_count": 22,
   "metadata": {
    "tags": []
   },
   "outputs": [
    {
     "output_type": "stream",
     "name": "stdout",
     "text": "Collecting sklearn\n  Downloading sklearn-0.0.tar.gz (1.1 kB)\nCollecting scikit-learn\n  Downloading scikit_learn-0.23.2-cp38-cp38-manylinux1_x86_64.whl (6.8 MB)\n\u001b[K     |████████████████████████████████| 6.8 MB 4.4 MB/s \n\u001b[?25hRequirement already satisfied: joblib>=0.11 in /usr/local/lib/python3.8/dist-packages (from scikit-learn->sklearn) (0.15.1)\nRequirement already satisfied: scipy>=0.19.1 in /home/dev/.local/lib/python3.8/site-packages (from scikit-learn->sklearn) (1.4.1)\nRequirement already satisfied: numpy>=1.13.3 in /home/dev/.local/lib/python3.8/site-packages (from scikit-learn->sklearn) (1.18.3)\nCollecting threadpoolctl>=2.0.0\n  Downloading threadpoolctl-2.1.0-py3-none-any.whl (12 kB)\nBuilding wheels for collected packages: sklearn\n  Building wheel for sklearn (setup.py) ... \u001b[?25ldone\n\u001b[?25h  Created wheel for sklearn: filename=sklearn-0.0-py2.py3-none-any.whl size=1315 sha256=228f5b5ae50c9b2b947b3153824857fe41dddc34470c07e8c28d83000a8a3bd5\n  Stored in directory: /home/dev/.cache/pip/wheels/22/0b/40/fd3f795caaa1fb4c6cb738bc1f56100be1e57da95849bfc897\nSuccessfully built sklearn\nInstalling collected packages: threadpoolctl, scikit-learn, sklearn\nSuccessfully installed scikit-learn-0.23.2 sklearn-0.0 threadpoolctl-2.1.0\n"
    }
   ],
   "source": [
    "!pip3 install sklearn"
   ]
  },
  {
   "cell_type": "code",
   "execution_count": 23,
   "metadata": {},
   "outputs": [
    {
     "output_type": "error",
     "ename": "ImportError",
     "evalue": "cannot import name 'GridSearchCSV' from 'sklearn.model_selection' (/home/dev/.local/lib/python3.8/site-packages/sklearn/model_selection/__init__.py)",
     "traceback": [
      "\u001b[0;31m---------------------------------------------------------------------------\u001b[0m",
      "\u001b[0;31mImportError\u001b[0m                               Traceback (most recent call last)",
      "\u001b[0;32m<ipython-input-23-dca3edcb47fe>\u001b[0m in \u001b[0;36m<module>\u001b[0;34m\u001b[0m\n\u001b[0;32m----> 1\u001b[0;31m \u001b[0;32mfrom\u001b[0m \u001b[0msklearn\u001b[0m\u001b[0;34m.\u001b[0m\u001b[0mmodel_selection\u001b[0m \u001b[0;32mimport\u001b[0m \u001b[0mGridSearchCSV\u001b[0m\u001b[0;34m\u001b[0m\u001b[0;34m\u001b[0m\u001b[0m\n\u001b[0m",
      "\u001b[0;31mImportError\u001b[0m: cannot import name 'GridSearchCSV' from 'sklearn.model_selection' (/home/dev/.local/lib/python3.8/site-packages/sklearn/model_selection/__init__.py)"
     ]
    }
   ],
   "source": [
    "from sklearn.model_selection import GridSearchCSV"
   ]
  },
  {
   "cell_type": "code",
   "execution_count": 61,
   "metadata": {},
   "outputs": [],
   "source": [
    "from sklearn.model_selection import GridSearchCV\n",
    "from sklearn.ensemble import RandomForestClassifier\n",
    "from sklearn import tree\n",
    "from sklearn import metrics\n"
   ]
  },
  {
   "cell_type": "code",
   "execution_count": 26,
   "metadata": {},
   "outputs": [],
   "source": [
    "def bootstrap(df, n):\n",
    "    bob = df.sample(n)\n",
    "    return bob\n"
   ]
  },
  {
   "cell_type": "code",
   "execution_count": 27,
   "metadata": {},
   "outputs": [],
   "source": [
    "boots = bootstrap(train, 3)"
   ]
  },
  {
   "cell_type": "code",
   "execution_count": 28,
   "metadata": {},
   "outputs": [
    {
     "output_type": "execute_result",
     "data": {
      "text/plain": "        age  gender  height  weight  ap_hi  ap_lo  cholesterol  gluc  smoke  \\\n875   21100       2     169   100.0    130     90            3     3      0   \n1840  20389       1     171   130.0    130     80            1     1      0   \n3782  14405       1     170    78.0    120     80            1     1      0   \n\n      alco  active  cardio  \n875      0       1       1  \n1840     0       1       0  \n3782     0       0       0  ",
      "text/html": "<div>\n<style scoped>\n    .dataframe tbody tr th:only-of-type {\n        vertical-align: middle;\n    }\n\n    .dataframe tbody tr th {\n        vertical-align: top;\n    }\n\n    .dataframe thead th {\n        text-align: right;\n    }\n</style>\n<table border=\"1\" class=\"dataframe\">\n  <thead>\n    <tr style=\"text-align: right;\">\n      <th></th>\n      <th>age</th>\n      <th>gender</th>\n      <th>height</th>\n      <th>weight</th>\n      <th>ap_hi</th>\n      <th>ap_lo</th>\n      <th>cholesterol</th>\n      <th>gluc</th>\n      <th>smoke</th>\n      <th>alco</th>\n      <th>active</th>\n      <th>cardio</th>\n    </tr>\n  </thead>\n  <tbody>\n    <tr>\n      <th>875</th>\n      <td>21100</td>\n      <td>2</td>\n      <td>169</td>\n      <td>100.0</td>\n      <td>130</td>\n      <td>90</td>\n      <td>3</td>\n      <td>3</td>\n      <td>0</td>\n      <td>0</td>\n      <td>1</td>\n      <td>1</td>\n    </tr>\n    <tr>\n      <th>1840</th>\n      <td>20389</td>\n      <td>1</td>\n      <td>171</td>\n      <td>130.0</td>\n      <td>130</td>\n      <td>80</td>\n      <td>1</td>\n      <td>1</td>\n      <td>0</td>\n      <td>0</td>\n      <td>1</td>\n      <td>0</td>\n    </tr>\n    <tr>\n      <th>3782</th>\n      <td>14405</td>\n      <td>1</td>\n      <td>170</td>\n      <td>78.0</td>\n      <td>120</td>\n      <td>80</td>\n      <td>1</td>\n      <td>1</td>\n      <td>0</td>\n      <td>0</td>\n      <td>0</td>\n      <td>0</td>\n    </tr>\n  </tbody>\n</table>\n</div>"
     },
     "metadata": {},
     "execution_count": 28
    }
   ],
   "source": [
    "boots"
   ]
  },
  {
   "cell_type": "code",
   "execution_count": 62,
   "metadata": {},
   "outputs": [],
   "source": [
    "def randomforest(df, k, n, d):\n",
    "    bootsy = bootstrap(df, n)\n",
    "    t = bootsy.sample(d, axis = 1)\n",
    "    features = list(t.columns)\n",
    "    x = bootsy[features]\n",
    "    bootsy.head()\n",
    "    y = bootsy['cardio']\n",
    "    classy = tree.DecisionTreeClassifier()\n",
    "    classy = classy.fit(x,y)\n",
    "    predicted = classy.predict(x)\n",
    "    print(\"Accuracy:\",metrics.accuracy_score(y, predicted))\n",
    "    return predicted\n",
    "\n",
    "\n"
   ]
  },
  {
   "cell_type": "code",
   "execution_count": 63,
   "metadata": {
    "tags": []
   },
   "outputs": [
    {
     "output_type": "stream",
     "name": "stdout",
     "text": "Accuracy: 1.0\n"
    }
   ],
   "source": [
    "bb = randomforest(train, 3, 3, 3)\n"
   ]
  },
  {
   "cell_type": "code",
   "execution_count": 64,
   "metadata": {},
   "outputs": [
    {
     "output_type": "execute_result",
     "data": {
      "text/plain": "array([1, 0, 0])"
     },
     "metadata": {},
     "execution_count": 64
    }
   ],
   "source": [
    "bb\n"
   ]
  },
  {
   "cell_type": "code",
   "execution_count": 66,
   "metadata": {
    "tags": []
   },
   "outputs": [
    {
     "output_type": "stream",
     "name": "stdout",
     "text": "Collecting graphviz\n  Downloading graphviz-0.14.1-py2.py3-none-any.whl (18 kB)\nInstalling collected packages: graphviz\nSuccessfully installed graphviz-0.14.1\nRequirement already satisfied: pydotplus in /home/dev/.local/lib/python3.8/site-packages (2.0.2)\nRequirement already satisfied: pyparsing>=2.0.1 in /home/dev/.local/lib/python3.8/site-packages (from pydotplus) (2.4.7)\n"
    }
   ],
   "source": [
    "!pip3 install graphviz\n",
    "!pip3 install pydotplus"
   ]
  },
  {
   "cell_type": "code",
   "execution_count": 68,
   "metadata": {},
   "outputs": [
    {
     "output_type": "error",
     "ename": "ImportError",
     "evalue": "cannot import name 'StringIO' from 'sklearn' (/home/dev/.local/lib/python3.8/site-packages/sklearn/__init__.py)",
     "traceback": [
      "\u001b[0;31m---------------------------------------------------------------------------\u001b[0m",
      "\u001b[0;31mImportError\u001b[0m                               Traceback (most recent call last)",
      "\u001b[0;32m<ipython-input-68-c16f25f3dd5c>\u001b[0m in \u001b[0;36m<module>\u001b[0;34m\u001b[0m\n\u001b[1;32m      1\u001b[0m \u001b[0;32mfrom\u001b[0m \u001b[0msklearn\u001b[0m\u001b[0;34m.\u001b[0m\u001b[0mtree\u001b[0m \u001b[0;32mimport\u001b[0m \u001b[0mexport_graphviz\u001b[0m\u001b[0;34m\u001b[0m\u001b[0;34m\u001b[0m\u001b[0m\n\u001b[0;32m----> 2\u001b[0;31m \u001b[0;32mfrom\u001b[0m \u001b[0msklearn\u001b[0m \u001b[0;32mimport\u001b[0m \u001b[0mStringIO\u001b[0m\u001b[0;34m\u001b[0m\u001b[0;34m\u001b[0m\u001b[0m\n\u001b[0m\u001b[1;32m      3\u001b[0m \u001b[0;32mfrom\u001b[0m \u001b[0mIPython\u001b[0m\u001b[0;34m.\u001b[0m\u001b[0mdisplay\u001b[0m \u001b[0;32mimport\u001b[0m \u001b[0mImage\u001b[0m\u001b[0;34m\u001b[0m\u001b[0;34m\u001b[0m\u001b[0m\n",
      "\u001b[0;31mImportError\u001b[0m: cannot import name 'StringIO' from 'sklearn' (/home/dev/.local/lib/python3.8/site-packages/sklearn/__init__.py)"
     ]
    }
   ],
   "source": [
    "from sklearn.tree import export_graphviz\n",
    "from sklearn.externals.six import StringIO  \n",
    "from IPython.display import Image  \n",
    "import pydotplus"
   ]
  },
  {
   "cell_type": "code",
   "execution_count": null,
   "metadata": {},
   "outputs": [],
   "source": []
  }
 ]
}